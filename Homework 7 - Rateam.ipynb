{
 "cells": [
  {
   "cell_type": "code",
   "execution_count": 1,
   "metadata": {
    "collapsed": true
   },
   "outputs": [],
   "source": [
    "from selenium import webdriver\n",
    "from selenium.webdriver.support.ui import Select\n",
    "from time import *"
   ]
  },
  {
   "cell_type": "code",
   "execution_count": 2,
   "metadata": {
    "collapsed": true
   },
   "outputs": [],
   "source": [
    "browser = webdriver.Chrome()\n",
    "url = \"http://rate.am/en/armenian-dram-exchange-rates/banks/non-cash\"\n",
    "browser.get(url)\n",
    "all_data=browser.find_element_by_xpath('//*[@id=\"aspnetForm\"]/div[3]/div[2]/div[1]/div[4]/div[3]/table/tbody/tr/td[1]/a')\n",
    "all_data.click()"
   ]
  },
  {
   "cell_type": "code",
   "execution_count": 3,
   "metadata": {
    "collapsed": true
   },
   "outputs": [],
   "source": [
    "July20=browser.find_element_by_xpath('//*[@id=\"calBorder\"]/span/table/tbody/tr[3]/td/table/tbody/tr[5]/td[4]')\n",
    "July20.click()"
   ]
  },
  {
   "cell_type": "code",
   "execution_count": 4,
   "metadata": {
    "collapsed": true
   },
   "outputs": [],
   "source": [
    "show=browser.find_element_by_xpath('//*[@id=\"ctl00_Content_RB_dtpick1_btnOk\"]')\n",
    "show.click()"
   ]
  },
  {
   "cell_type": "code",
   "execution_count": 5,
   "metadata": {
    "collapsed": true
   },
   "outputs": [],
   "source": [
    "import pandas as pd\n",
    "import csv"
   ]
  },
  {
   "cell_type": "code",
   "execution_count": 8,
   "metadata": {},
   "outputs": [],
   "source": [
    "data = pd.read_html(browser.find_element_by_class_name(\"rb\").get_attribute('outerHTML'))\n",
    "data = data[0]\n",
    "data = data[2:19]\n",
    "del data[0]\n",
    "del data[2]\n",
    "del data[3]\n",
    "data.columns = [\"Name\", \"Date\", \"USD_buy\", \"USD_sell\", \"EUR_buy\", \"EUR_sell\", \"RUR_buy\", \"RUR_sell\", \"GBP_buy\", \"GBP_sell\"]\n",
    "from unicodecsv import*\n",
    "with open('rateam.csv', 'w') as f:\n",
    "    data.to_csv(f, header=True, index=False, encoding='utf-8')"
   ]
  },
  {
   "cell_type": "code",
   "execution_count": 9,
   "metadata": {},
   "outputs": [
    {
     "name": "stdout",
     "output_type": "stream",
     "text": [
      "                      Name           Date USD_buy USD_sell EUR_buy  EUR_sell  \\\n",
      "2        Էյչ-Էս-Բի-Սի Բանկ  20 Jul, 20:01  476.50   480.50     550     558.0   \n",
      "3      Բիբլոս Բանկ Արմենիա  20 Jul, 20:00     477   480.50     547     555.0   \n",
      "4        ՎՏԲ-Հայաստան Բանկ  20 Jul, 20:00  477.25      480     547     553.5   \n",
      "5               Ամերիաբանկ  20 Jul, 20:00  476.50   480.50  551.50     559.5   \n",
      "6                Յունիբանկ  20 Jul, 20:00  476.50      480     546     556.0   \n",
      "7   ԱԿԲԱ-ԿՐԵԴԻՏ ԱԳՐԻԿՈԼ ..  20 Jul, 20:00     477   480.50  546.50     554.0   \n",
      "8              Արմսվիսբանկ  20 Jul, 20:00     477      480     548     554.0   \n",
      "9               Արդշինբանկ  20 Jul, 20:00  477.50   480.50     548     558.0   \n",
      "10               Արցախբանկ  20 Jul, 20:00     477      480     547     555.0   \n",
      "11            Կոնվերս բանկ  20 Jul, 20:00  476.50      480     547     555.0   \n",
      "12             Անելիք Բանկ  20 Jul, 20:00     477   480.50     546     556.0   \n",
      "13       ՀԱՅԲԻԶՆԵՍԲԱՆԿ ՓԲԸ  20 Jul, 20:00     477      480  547.10     554.1   \n",
      "14           Պրոմեթեյ Բանկ  20 Jul, 20:00     477      480     548     556.0   \n",
      "15              ԱՐԱՐԱՏԲԱՆԿ  20 Jul, 20:00  477.50   480.50     543     561.0   \n",
      "16               Ինեկոբանկ  20 Jul, 20:00  477.25   480.25     547     559.0   \n",
      "17           ՀԱՅԷԿՈՆՈՄԲԱՆԿ  20 Jul, 20:00     477   480.50     547     555.0   \n",
      "18             Մելլաթ բանկ  20 Jul, 20:00     476      480     547     555.0   \n",
      "\n",
      "    RUR_buy  RUR_sell  GBP_buy  GBP_sell  \n",
      "2      7.99      8.23    616.5     625.5  \n",
      "3      7.99      8.24    618.0     629.0  \n",
      "4      8.06      8.18    619.0     630.0  \n",
      "5      7.97      8.22    616.5     626.5  \n",
      "6      8.00      8.25    612.0     632.0  \n",
      "7      8.05      8.18    612.0     627.0  \n",
      "8      8.04      8.22    617.0     624.0  \n",
      "9      7.97      8.22    618.0     633.0  \n",
      "10     7.99      8.20    614.0     629.0  \n",
      "11     8.02      8.21    619.0     627.0  \n",
      "12     8.04      8.22      NaN       NaN  \n",
      "13     8.02      8.24    617.1     629.1  \n",
      "14     8.06      8.16    614.0     625.0  \n",
      "15     8.04      8.25    610.0     633.0  \n",
      "16     7.95      8.20    613.0     626.0  \n",
      "17     8.06      8.23    611.0     630.0  \n",
      "18      NaN       NaN      NaN       NaN  \n"
     ]
    }
   ],
   "source": [
    "print data"
   ]
  },
  {
   "cell_type": "code",
   "execution_count": null,
   "metadata": {
    "collapsed": true
   },
   "outputs": [],
   "source": []
  }
 ],
 "metadata": {
  "kernelspec": {
   "display_name": "Python 2",
   "language": "python",
   "name": "python2"
  },
  "language_info": {
   "codemirror_mode": {
    "name": "ipython",
    "version": 2
   },
   "file_extension": ".py",
   "mimetype": "text/x-python",
   "name": "python",
   "nbconvert_exporter": "python",
   "pygments_lexer": "ipython2",
   "version": "2.7.13"
  }
 },
 "nbformat": 4,
 "nbformat_minor": 2
}
